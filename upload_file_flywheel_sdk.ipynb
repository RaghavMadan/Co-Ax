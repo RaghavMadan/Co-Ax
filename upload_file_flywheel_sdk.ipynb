{
 "cells": [
  {
   "cell_type": "code",
   "execution_count": 197,
   "metadata": {},
   "outputs": [],
   "source": [
    "import flywheel\n",
    "from os.path import join as opj\n",
    "import os\n",
    "import sys\n",
    "import git\n",
    "import shutil"
   ]
  },
  {
   "cell_type": "code",
   "execution_count": 23,
   "metadata": {},
   "outputs": [],
   "source": [
    "#To clone Git Repo\n",
    "#Run it only the first time\n",
    "# dir_name = \"temp\"\n",
    "# remote_url = \"https://github.com/kmbond/loki_1.git/\"\n",
    "\n",
    "# if os.path.isdir(dir_name):\n",
    "#     shutil.rmtree(dir_name)\n",
    "    \n",
    "# os.mkdir(dir_name)\n",
    "# print(\"In process\")\n",
    "\n",
    "# repo = git.Repo.init(dir_name)\n",
    "# origin = repo.create_remote('origin',remote_url)\n",
    "# print(\"Added remote\")\n",
    "# print(\"Fetching\")\n",
    "# origin.fetch()\n",
    "# print (\"Fetching complete\")\n",
    "# origin.pull(origin.refs[0].remote_head)\n",
    "# print (\"---Done---\")"
   ]
  },
  {
   "cell_type": "code",
   "execution_count": 28,
   "metadata": {},
   "outputs": [
    {
     "name": "stdout",
     "output_type": "stream",
     "text": [
      "---Done---\n"
     ]
    }
   ],
   "source": [
    "#To update git repo every subsequent time\n",
    "dir_name = \"temp\"\n",
    "remote_url = \"https://github.com/kmbond/loki_1.git/\"\n",
    "repo = git.Repo.init(dir_name)\n",
    "#origin = repo.create_remote('origin',remote_url)\n",
    "origin.pull(origin.refs[0].remote_head)\n",
    "print (\"---Done---\")"
   ]
  },
  {
   "cell_type": "code",
   "execution_count": 31,
   "metadata": {},
   "outputs": [],
   "source": [
    "# Initialise first flywheel client\n",
    "api_key = \"bridge-center.flywheel.io:Y86teOyF7LfgZ2yLb9\"\n",
    "fw = flywheel.Client(api_key)"
   ]
  },
  {
   "cell_type": "code",
   "execution_count": 203,
   "metadata": {},
   "outputs": [],
   "source": [
    " # Define lab and project\n",
    "lab = \"coax\"\n",
    "project_label = \"LOKI1\"\n",
    "\n",
    "#Define subject and session label\n",
    "subject_label = \"790\"\n",
    "session_label = f\"ses-{ses}\""
   ]
  },
  {
   "cell_type": "code",
   "execution_count": 202,
   "metadata": {},
   "outputs": [],
   "source": [
    "#Currently flywheel adds a new subject with \"unknown\" label\n",
    "#Add subject and session manually, on the flywheel website, till this error is sorted\n",
    "#To check if subject already exists and add new subject\n",
    "# counter_subject = 0\n",
    "# for subject in fw.subjects():\n",
    "#     #print(subject.label)\n",
    "#     if subject.label == subject_label:\n",
    "#         counter_subject = 1\n",
    "# #print(subject_label)        \n",
    "# if counter_subject == 1:\n",
    "#     print(\"Subject already exists\")\n",
    "# else:\n",
    "#     subject = project.add_subject(label = subject_label)\n"
   ]
  },
  {
   "cell_type": "code",
   "execution_count": 204,
   "metadata": {},
   "outputs": [
    {
     "name": "stdout",
     "output_type": "stream",
     "text": [
      "coax/LOKI1/790/ses-03/func-bold_task-lokicat_run-01\n",
      "5d56f4bde3250a0032b76ae7\n",
      "sub-0790_ses03_task-lokicat_run01_08162019_140611_events.tsv\n",
      "coax/LOKI1/790/ses-03/func-bold_task-lokicat_run-02\n",
      "5d56f721e3250a002eb769c3\n",
      "sub-0790_ses03_task-lokicat_run02_08162019_141659_events.tsv\n",
      "coax/LOKI1/790/ses-03/func-bold_task-lokicat_run-03\n",
      "5d56f97ae3250a002cb768f3\n",
      "sub-0790_ses03_task-lokicat_run03_08162019_142727_events.tsv\n",
      "coax/LOKI1/790/ses-03/func-bold_task-lokicat_run-04\n",
      "5d56fc25e3250a0038b77839\n",
      "sub-0790_ses03_task-lokicat_run04_08162019_143805_events.tsv\n",
      "coax/LOKI1/790/ses-03/func-bold_task-lokicat_run-05\n",
      "5d56fe6fe3250a0038b7783c\n",
      "sub-0790_ses03_task-lokicat_run05_08162019_144848_events.tsv\n"
     ]
    }
   ],
   "source": [
    "files = os.listdir(f\"{loki1_GitRepo}/data/BIDS/sub-0{subject_label}/{session_label}/func\")\n",
    "for file in files:\n",
    "    if(file.find('.tsv')>0):\n",
    "        run_index = file.find(\"run\")\n",
    "        file_link = file[run_index+3:run_index+5]\n",
    "        #This is the path  folder where acquisitions for this subject and session are located\n",
    "        path=opj(lab, project_label, subject_label, session_label,f\"func-bold_task-lokicat_run-{file_link}\").replace(\"\\\\\",'/')\n",
    "        #confirm path\n",
    "        print(path)\n",
    "        # get id for specific acquisition\n",
    "        acquistion_id = fw.lookup(path).id\n",
    "        print(acquistion_id)\n",
    "        # retrieve object of acquistion with this ID\n",
    "        this_acq = fw.get(acquistion_id)\n",
    "        print(file)\n",
    "        this_acq.upload_file(f\"temp/data/BIDS/sub-0{subject_label}/{session_label}/func/{file}\")\n",
    "    "
   ]
  }
 ],
 "metadata": {
  "kernelspec": {
   "display_name": "Python 3",
   "language": "python",
   "name": "python3"
  },
  "language_info": {
   "codemirror_mode": {
    "name": "ipython",
    "version": 3
   },
   "file_extension": ".py",
   "mimetype": "text/x-python",
   "name": "python",
   "nbconvert_exporter": "python",
   "pygments_lexer": "ipython3",
   "version": "3.6.5"
  }
 },
 "nbformat": 4,
 "nbformat_minor": 2
}
