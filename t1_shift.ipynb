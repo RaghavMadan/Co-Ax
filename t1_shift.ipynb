{
 "cells": [
  {
   "cell_type": "code",
   "execution_count": 48,
   "metadata": {},
   "outputs": [
    {
     "name": "stderr",
     "output_type": "stream",
     "text": [
      "C:\\anaconda\\lib\\site-packages\\flywheel\\flywheel.py:5758: UserWarning: Client version 9.0.3 does not match server version 10.0.2. Please update your client version!\n",
      "  warnings.warn('Client version {} does not match server version {}. Please update your client version!'.format(SDK_VERSION, release_version))\n",
      "WARNING:Flywheel:Use \"pip install flywheel-sdk~=10.0.2\" to install a compatible version for this server\n"
     ]
    },
    {
     "name": "stdout",
     "output_type": "stream",
     "text": [
      "5d48979de3250a0038b765d7\n",
      "1.3.12.2.1107.5.2.43.166114.2019080516471448892043016.0.0.0.dicom.zip\n",
      "1.3.12.2.1107.5.2.43.166114.2019080516471448892043016.0.0.0.nii.gz\n",
      "1.3.12.2.1107.5.2.43.166114.2019080516471448892043016.0.0.0_mriqc.qa.html\n"
     ]
    }
   ],
   "source": [
    "import flywheel\n",
    "from os.path import join as opj\n",
    "import os\n",
    "import sys\n",
    "import argparse\n",
    "import shutil\n",
    "\n",
    "#Flywheel login\n",
    "api_key = \"bridge-center.flywheel.io:Y86teOyF7LfgZ2yLb9\"\n",
    "fw = flywheel.Client(api_key)\n",
    "\n",
    "#Initiate argparse for user input\n",
    "parser = argparse.ArgumentParser()\n",
    "parser.add_argument(\"sub\", help=\"subject number\")\n",
    "parser.add_argument(\"ses_s\", help=\"input starting session number - input 2 digit format'XX'\")\n",
    "parser.add_argument(\"ses_e\", help=\"input ending session number - input 2 digit format'XX'\")\n",
    "args, unknown = parser.parse_known_args()\n",
    "\n",
    "#initialize user arguments\n",
    "subject_label = args.sub\n",
    "session_start = int(args.ses_s)\n",
    "session_end = int(args.ses_e)\n",
    "\n",
    "# Define lab and project\n",
    "lab = \"coax\"\n",
    "project_label = \"LOKI1\"\n",
    "\n",
    "#Download files from LOKICAT\n",
    "path_download = f\"mtarrlab/LOKICAT/{subject_label}/ses-01/anat-T1w_acq-mprage\"\n",
    "src_acq = fw.lookup(path_download)\n",
    "src_acq.download_file(f'{acquisition_id.uid}.dicom.zip', f't1/{acquisition_id.uid}.dicom.zip')\n",
    "src_acq.download_file(f'{acquisition_id.uid}.nii.gz', f't1/{acquisition_id.uid}.dicom.nii.gz')\n",
    "src_acq.download_file(f'{acquisition_id.uid}_mriqc.qa.html', f't1/{acquisition_id.uid}_mriqc.qa.html')\n",
    "\n",
    "#add t1 image file to all given session range under given subject\n",
    "counter = session_start\n",
    "while counter <= session_end:\n",
    "    if counter < 10:\n",
    "        session_label = f\"0{counter}\"\n",
    "    else:\n",
    "        session_label = str(counter)\n",
    "    path=opj(lab, project_label, subject_label, f\"ses-{session_label}\").replace(\"\\\\\",'/')\n",
    "    acquisition_id = fw.lookup(path)\n",
    "    acquisition = acquisition_id.add_acquisition(label='anat-t1w-acq-mprage')\n",
    "    src_path= \"t1\"\n",
    "    files = os.listdir(src_path)\n",
    "    for file in files:\n",
    "        acquisition.upload_file(f't1/{file}')\n",
    "    print (f\"files uploaded to session {session_label}\")\n",
    "    counter = counter + 1\n",
    "\n",
    "#Delete files from folder T1\n",
    "src_path= \"t1\"\n",
    "files = os.listdir(src_path)\n",
    "for file in files:\n",
    "    os.remove(file)\n"
   ]
  }
 ],
 "metadata": {
  "kernelspec": {
   "display_name": "Python 3",
   "language": "python",
   "name": "python3"
  },
  "language_info": {
   "codemirror_mode": {
    "name": "ipython",
    "version": 3
   },
   "file_extension": ".py",
   "mimetype": "text/x-python",
   "name": "python",
   "nbconvert_exporter": "python",
   "pygments_lexer": "ipython3",
   "version": "3.6.5"
  }
 },
 "nbformat": 4,
 "nbformat_minor": 2
}
